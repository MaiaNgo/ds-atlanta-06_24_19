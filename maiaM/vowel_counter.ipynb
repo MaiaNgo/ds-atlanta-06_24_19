{
 "cells": [
  {
   "cell_type": "markdown",
   "metadata": {},
   "source": [
    "Build a function called vowel.counter that takes in a string and returns the number of times a,e,i,o,u (lowercase or uppercase) appear in the string. This function should return a dictionary with vowels as keys and the counts of each vowel as the values."
   ]
  },
  {
   "cell_type": "code",
   "execution_count": 1,
   "metadata": {},
   "outputs": [],
   "source": [
    "def vowel_counter(text):\n",
    "    print(f'Original text: {text}')\n",
    "    counter_dict = {'a': 0,\n",
    "                    'e': 0,\n",
    "                    'i': 0,\n",
    "                    'o': 0,\n",
    "                    'u': 0}\n",
    "    \n",
    "    for each_char in text:\n",
    "        char_lower = each_char.lower()\n",
    "        if char_lower in ['a', 'e', 'i', 'o', 'u']:\n",
    "            counter_dict[char_lower] += 1\n",
    "            \n",
    "    return counter_dict"
   ]
  },
  {
   "cell_type": "code",
   "execution_count": 2,
   "metadata": {},
   "outputs": [
    {
     "name": "stdout",
     "output_type": "stream",
     "text": [
      "Original text: Hello World!\n"
     ]
    },
    {
     "data": {
      "text/plain": [
       "{'a': 0, 'e': 1, 'i': 0, 'o': 2, 'u': 0}"
      ]
     },
     "execution_count": 2,
     "metadata": {},
     "output_type": "execute_result"
    }
   ],
   "source": [
    "vowel_counter('Hello World!')"
   ]
  },
  {
   "cell_type": "code",
   "execution_count": 3,
   "metadata": {},
   "outputs": [
    {
     "name": "stdout",
     "output_type": "stream",
     "text": [
      "Original text: adfjasldj f ioqweo  asdflas jio a cvnavb aeporqwr\n"
     ]
    },
    {
     "data": {
      "text/plain": [
       "{'a': 7, 'e': 2, 'i': 2, 'o': 4, 'u': 0}"
      ]
     },
     "execution_count": 3,
     "metadata": {},
     "output_type": "execute_result"
    }
   ],
   "source": [
    "vowel_counter('adfjasldj f ioqweo  asdflas jio a cvnavb aeporqwr')"
   ]
  },
  {
   "cell_type": "code",
   "execution_count": 24,
   "metadata": {},
   "outputs": [],
   "source": [
    "def vowel_counter(text):\n",
    "    print(f'Original text: {text}')\n",
    "    \n",
    "    # declare a list of vowels\n",
    "    vowels = ['a', 'e', 'i', 'o', 'u'] \n",
    "    print(vowels)\n",
    "    \n",
    "    # use dictionary comprehension to construct the intial dict\n",
    "    counter_dict = {vowel:0 for vowel in vowels}\n",
    "    print(counter_dict)\n",
    "    \n",
    "    # loop through the text to count vowels\n",
    "    for char in text:\n",
    "        if char.lower() in vowels:\n",
    "            counter_dict[char.lower()] += 1\n",
    "    \n",
    "    return counter_dict\n",
    "    "
   ]
  },
  {
   "cell_type": "code",
   "execution_count": 25,
   "metadata": {},
   "outputs": [
    {
     "name": "stdout",
     "output_type": "stream",
     "text": [
      "Original text: Hello World!\n",
      "['a', 'e', 'i', 'o', 'u']\n",
      "{'a': 0, 'e': 0, 'i': 0, 'o': 0, 'u': 0}\n"
     ]
    },
    {
     "data": {
      "text/plain": [
       "{'a': 0, 'e': 1, 'i': 0, 'o': 2, 'u': 0}"
      ]
     },
     "execution_count": 25,
     "metadata": {},
     "output_type": "execute_result"
    }
   ],
   "source": [
    "vowel_counter('Hello World!')"
   ]
  },
  {
   "cell_type": "code",
   "execution_count": 26,
   "metadata": {},
   "outputs": [
    {
     "name": "stdout",
     "output_type": "stream",
     "text": [
      "Original text: adfjasldj f ioqweo  asdflas jio a cvnavb aeporqwr\n",
      "['a', 'e', 'i', 'o', 'u']\n",
      "{'a': 0, 'e': 0, 'i': 0, 'o': 0, 'u': 0}\n"
     ]
    },
    {
     "data": {
      "text/plain": [
       "{'a': 7, 'e': 2, 'i': 2, 'o': 4, 'u': 0}"
      ]
     },
     "execution_count": 26,
     "metadata": {},
     "output_type": "execute_result"
    }
   ],
   "source": [
    "vowel_counter('adfjasldj f ioqweo  asdflas jio a cvnavb aeporqwr')"
   ]
  },
  {
   "cell_type": "code",
   "execution_count": null,
   "metadata": {},
   "outputs": [],
   "source": []
  }
 ],
 "metadata": {
  "kernelspec": {
   "display_name": "Python 3",
   "language": "python",
   "name": "python3"
  },
  "language_info": {
   "codemirror_mode": {
    "name": "ipython",
    "version": 3
   },
   "file_extension": ".py",
   "mimetype": "text/x-python",
   "name": "python",
   "nbconvert_exporter": "python",
   "pygments_lexer": "ipython3",
   "version": "3.7.3"
  }
 },
 "nbformat": 4,
 "nbformat_minor": 2
}
