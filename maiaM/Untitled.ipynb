{
 "cells": [
  {
   "cell_type": "code",
   "execution_count": 1,
   "metadata": {},
   "outputs": [
    {
     "name": "stdout",
     "output_type": "stream",
     "text": [
      "<class 'str'>\n",
      "120253\n",
      "﻿\r\n",
      "\r\n",
      "***The Project Gutenberg's Etext of Shakespeare's First Folio***\r\n",
      "********************The Tragedie of Macbeth*********************\r\n",
      "\r\n",
      "\r\n",
      "\r\n",
      "*******************************************************************\r\n",
      "THIS EBOOK WAS ONE OF PROJECT GUTENBERG'S EARLY FILES PRODUCED AT A\r\n",
      "TIME WHEN PROOFING METHODS AND TOOLS WERE NOT WELL DEVELOPED. THERE\r\n",
      "IS AN IMPROVED EDITION OF THIS TITLE WHICH MAY BE VIEWED AS EBOOK\r\n",
      "(#1533) at https://www.gutenberg.org/ebooks/1533\r\n",
      "*********************************\n"
     ]
    }
   ],
   "source": [
    "import requests\n",
    "macbeth = requests.get('http://www.gutenberg.org/cache/epub/2264/pg2264.txt').text\n",
    "\n",
    "print(type(macbeth))\n",
    "print(len(macbeth))\n",
    "print(macbeth[:500])"
   ]
  },
  {
   "cell_type": "code",
   "execution_count": 2,
   "metadata": {},
   "outputs": [
    {
     "name": "stdout",
     "output_type": "stream",
     "text": [
      "0 is even.\n",
      "this does not print for odd numbers\n",
      "because the continue statement skips\n",
      "the code that follows in the for loop\n",
      "and goes straight back to the next element in the for loop\n",
      "2 is even.\n",
      "this does not print for odd numbers\n",
      "because the continue statement skips\n",
      "the code that follows in the for loop\n",
      "and goes straight back to the next element in the for loop\n",
      "4 is even.\n",
      "this does not print for odd numbers\n",
      "because the continue statement skips\n",
      "the code that follows in the for loop\n",
      "and goes straight back to the next element in the for loop\n",
      "6 is even.\n",
      "this does not print for odd numbers\n",
      "because the continue statement skips\n",
      "the code that follows in the for loop\n",
      "and goes straight back to the next element in the for loop\n",
      "8 is even.\n",
      "this does not print for odd numbers\n",
      "because the continue statement skips\n",
      "the code that follows in the for loop\n",
      "and goes straight back to the next element in the for loop\n",
      "We have enough even numbers in new_list (5). break will stop the for loop now\n"
     ]
    }
   ],
   "source": [
    "numbers = list(range(0,30))\n",
    "new_list = []\n",
    "for num in numbers:\n",
    "    if len(new_list) > 4:\n",
    "        print(f\"We have enough even numbers in new_list ({len(new_list)}). break will stop the for loop now\")\n",
    "        break\n",
    "    elif num % 2 == 0:\n",
    "        new_list.append(num)\n",
    "    elif num % 2 != 0:\n",
    "        continue\n",
    "        print(\"i never get executed\")\n",
    "    print(num, \"is even.\")\n",
    "    print(\"this does not print for odd numbers\\nbecause the continue statement skips\\nthe code that follows in the for loop\\nand goes straight back to the next element in the for loop\")\n",
    "   "
   ]
  },
  {
   "cell_type": "code",
   "execution_count": null,
   "metadata": {},
   "outputs": [],
   "source": []
  }
 ],
 "metadata": {
  "kernelspec": {
   "display_name": "Python 3",
   "language": "python",
   "name": "python3"
  },
  "language_info": {
   "codemirror_mode": {
    "name": "ipython",
    "version": 3
   },
   "file_extension": ".py",
   "mimetype": "text/x-python",
   "name": "python",
   "nbconvert_exporter": "python",
   "pygments_lexer": "ipython3",
   "version": "3.7.3"
  }
 },
 "nbformat": 4,
 "nbformat_minor": 2
}
