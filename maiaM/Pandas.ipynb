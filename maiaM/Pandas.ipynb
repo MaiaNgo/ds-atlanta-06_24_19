{
 "cells": [
  {
   "cell_type": "code",
   "execution_count": 83,
   "metadata": {},
   "outputs": [
    {
     "name": "stdout",
     "output_type": "stream",
     "text": [
      "{'title': ['Star War', 'Avatar', 'End Game'], 'year': [2000, 2005, 2019], 'revenue': [100, 200, 150]}\n"
     ]
    }
   ],
   "source": [
    "# Pandas is a tabular data manipulation library.\n",
    "# It has two axis which indexed started from 0.\n",
    "# The horizonal axis (axis=1) is called columns.\n",
    "# The vertical axis (axis=0) is called index.\n",
    "import pandas as pd\n",
    "\n",
    "movies = {\n",
    "    'title': ['Star War', 'Avatar', 'End Game'],\n",
    "    'year' : [2000, 2005, 2019],\n",
    "    'revenue': [100, 200, 150]\n",
    "}\n",
    "print(movies)\n"
   ]
  },
  {
   "cell_type": "code",
   "execution_count": 84,
   "metadata": {},
   "outputs": [
    {
     "name": "stdout",
     "output_type": "stream",
     "text": [
      "      title  year  revenue\n",
      "0  Star War  2000      100\n",
      "1    Avatar  2005      200\n",
      "2  End Game  2019      150\n"
     ]
    }
   ],
   "source": [
    "# construct DataFrame from dictionary\n",
    "movies_df = pd.DataFrame(movies)\n",
    "print(movies_df)\n"
   ]
  },
  {
   "cell_type": "code",
   "execution_count": 85,
   "metadata": {},
   "outputs": [
    {
     "name": "stdout",
     "output_type": "stream",
     "text": [
      "Index(['title', 'year', 'revenue'], dtype='object')\n"
     ]
    }
   ],
   "source": [
    "# We can get the list of columns names by:\n",
    "columns_names = movies_df.columns\n",
    "print(columns_names)\n"
   ]
  },
  {
   "cell_type": "code",
   "execution_count": 86,
   "metadata": {},
   "outputs": [
    {
     "name": "stdout",
     "output_type": "stream",
     "text": [
      "RangeIndex(start=0, stop=3, step=1)\n"
     ]
    }
   ],
   "source": [
    "# We can get the list of index by:\n",
    "index = movies_df.index\n",
    "print(index)\n"
   ]
  },
  {
   "cell_type": "code",
   "execution_count": 87,
   "metadata": {},
   "outputs": [
    {
     "name": "stdout",
     "output_type": "stream",
     "text": [
      "0    Star War\n",
      "1      Avatar\n",
      "2    End Game\n",
      "Name: title, dtype: object\n",
      "      title  year\n",
      "0  Star War  2000\n",
      "1    Avatar  2005\n",
      "2  End Game  2019\n"
     ]
    }
   ],
   "source": [
    "# We can access columns data by specify the column name, like a dictionary syntax\n",
    "print(movies_df['title'])\n",
    "\n",
    "# To access mutiple columns, we use provide list of columns names\n",
    "print(movies_df[['title', 'year']])\n"
   ]
  },
  {
   "cell_type": "code",
   "execution_count": 88,
   "metadata": {},
   "outputs": [
    {
     "name": "stdout",
     "output_type": "stream",
     "text": [
      "Star War\n"
     ]
    }
   ],
   "source": [
    "# We can access any cell/subset/slice of the DataFrame using either position/index or names/labels of both axises\n",
    "# To access by numeric index/position, we use 'iloc' property.\n",
    "cell_0_0 = movies_df.iloc[0, 0]\n",
    "print(cell_0_0)\n"
   ]
  },
  {
   "cell_type": "code",
   "execution_count": 89,
   "metadata": {},
   "outputs": [
    {
     "name": "stdout",
     "output_type": "stream",
     "text": [
      "200\n"
     ]
    }
   ],
   "source": [
    "cell_1_2 = movies_df.iloc[1, 2]\n",
    "print(cell_1_2)"
   ]
  },
  {
   "cell_type": "code",
   "execution_count": 90,
   "metadata": {},
   "outputs": [
    {
     "name": "stdout",
     "output_type": "stream",
     "text": [
      "   year  revenue\n",
      "0  2000      100\n",
      "2  2019      150\n"
     ]
    }
   ],
   "source": [
    "cell_with_index_0_2_and_column_1_2 = movies_df.iloc[[0, 2], [1, 2]]\n",
    "print(cell_with_index_0_2_and_column_1_2)"
   ]
  },
  {
   "cell_type": "code",
   "execution_count": 91,
   "metadata": {},
   "outputs": [
    {
     "name": "stdout",
     "output_type": "stream",
     "text": [
      "title      Star War\n",
      "year           2000\n",
      "revenue         100\n",
      "Name: 0, dtype: object\n"
     ]
    }
   ],
   "source": [
    "# If we specify only one param/argument in the square brackets, we get the whole row\n",
    "row_0 = movies_df.iloc[0]\n",
    "print(row_0)\n"
   ]
  },
  {
   "cell_type": "code",
   "execution_count": 92,
   "metadata": {},
   "outputs": [
    {
     "name": "stdout",
     "output_type": "stream",
     "text": [
      "      title  year  revenue\n",
      "0  Star War  2000      100\n",
      "2  End Game  2019      150\n"
     ]
    }
   ],
   "source": [
    "# We can use list of indices to access to mutiple indices\n",
    "row_0_and_2 = movies_df.iloc[[0, 2]]\n",
    "print(row_0_and_2)"
   ]
  },
  {
   "cell_type": "code",
   "execution_count": 93,
   "metadata": {},
   "outputs": [
    {
     "name": "stdout",
     "output_type": "stream",
     "text": [
      "      title  year\n",
      "0  Star War  2000\n",
      "1    Avatar  2005\n"
     ]
    }
   ],
   "source": [
    "# We can use Slicing to access a slice of DataFrame by any axis or both axises\n",
    "slice_index_0_2_and_column_0_2 = movies_df.iloc[0:2, 0:2]\n",
    "print(slice_index_0_2_and_column_0_2)\n"
   ]
  },
  {
   "cell_type": "code",
   "execution_count": 94,
   "metadata": {},
   "outputs": [
    {
     "name": "stdout",
     "output_type": "stream",
     "text": [
      "      title  year  revenue\n",
      "0  Star War  2000      100\n",
      "1    Avatar  2005      200\n",
      "2  End Game  2019      150\n"
     ]
    }
   ],
   "source": [
    "\n",
    "slice_all = movies_df.iloc[:, :]\n",
    "print(slice_all)\n"
   ]
  },
  {
   "cell_type": "code",
   "execution_count": 95,
   "metadata": {},
   "outputs": [
    {
     "name": "stdout",
     "output_type": "stream",
     "text": [
      "      title  year  revenue\n",
      "2  End Game  2019      150\n"
     ]
    }
   ],
   "source": [
    "slice_last_row = movies_df.iloc[-1:, :]\n",
    "print(slice_last_row)\n"
   ]
  },
  {
   "cell_type": "code",
   "execution_count": 96,
   "metadata": {},
   "outputs": [
    {
     "name": "stdout",
     "output_type": "stream",
     "text": [
      "   year  revenue\n",
      "2  2019      150\n"
     ]
    }
   ],
   "source": [
    "slice_last_row_and_last_two_columns = movies_df.iloc[-1:, -2:]\n",
    "print(slice_last_row_and_last_two_columns)\n",
    "\n"
   ]
  },
  {
   "cell_type": "code",
   "execution_count": 97,
   "metadata": {},
   "outputs": [
    {
     "name": "stdout",
     "output_type": "stream",
     "text": [
      "      title  year  revenue\n",
      "0  Star War  2000      100\n",
      "1    Avatar  2005      200\n",
      "2  End Game  2019      150\n"
     ]
    }
   ],
   "source": [
    "# Instead of accessing DataFrame by numeric index, we can use columns names and index label.\n",
    "# We use 'loc' property, instead of 'iloc' property as above\n",
    "all_rows = movies_df.loc[:,:]\n",
    "print(all_rows)\n"
   ]
  },
  {
   "cell_type": "code",
   "execution_count": 98,
   "metadata": {},
   "outputs": [
    {
     "name": "stdout",
     "output_type": "stream",
     "text": [
      "title      Avatar\n",
      "revenue       200\n",
      "Name: 1, dtype: object\n"
     ]
    }
   ],
   "source": [
    "second_row_with_title_and_revenue_columns = movies_df.loc[1, ['title', 'revenue']]\n",
    "print(second_row_with_title_and_revenue_columns)\n"
   ]
  },
  {
   "cell_type": "code",
   "execution_count": 99,
   "metadata": {},
   "outputs": [
    {
     "name": "stdout",
     "output_type": "stream",
     "text": [
      "      title  year  revenue\n",
      "1    Avatar  2005      200\n",
      "2  End Game  2019      150\n"
     ]
    }
   ],
   "source": [
    "# We can use boolean expression to filter some data that satisfied the condition\n",
    "movies_with_revenue_greater_than_100 = movies_df.loc[movies_df['revenue'] > 100]\n",
    "print(movies_with_revenue_greater_than_100)"
   ]
  },
  {
   "cell_type": "code",
   "execution_count": null,
   "metadata": {},
   "outputs": [],
   "source": []
  }
 ],
 "metadata": {
  "kernelspec": {
   "display_name": "Python 3",
   "language": "python",
   "name": "python3"
  },
  "language_info": {
   "codemirror_mode": {
    "name": "ipython",
    "version": 3
   },
   "file_extension": ".py",
   "mimetype": "text/x-python",
   "name": "python",
   "nbconvert_exporter": "python",
   "pygments_lexer": "ipython3",
   "version": "3.7.3"
  }
 },
 "nbformat": 4,
 "nbformat_minor": 2
}
