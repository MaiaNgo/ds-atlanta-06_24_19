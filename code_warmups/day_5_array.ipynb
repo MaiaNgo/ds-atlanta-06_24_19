{
 "cells": [
  {
   "cell_type": "markdown",
   "metadata": {},
   "source": [
    "Module 1 Day 5 code warmup:\n",
    "Practice:\n",
    "1. Create a list with elements ranging from 1 to 10\n",
    "2. Create an array with the shape (2, 3, 2)\n",
    "3. Print the first row of the array\n",
    "4. Challenge: Create a function that adds together two arrays\n",
    "5. Challenge: Using `challenge_list = [1,2,3,4,5]`, create a new list that should equal `[0, 1, 2, 3, 6, 5, 12, 7, 20, 9]`\n",
    "Hint1: Use a for loop!\n",
    "Hint2: The first number in challenge_list is multiplied by its index to get the first number in the new_list. The first number in challenge_list is added to its index to get the second number in the new list. This repeats for each number in challenge_list.\n",
    "\n",
    "Question:\n",
    "What are some differences between a list and a numpy array?"
   ]
  },
  {
   "cell_type": "code",
   "execution_count": 2,
   "metadata": {},
   "outputs": [
    {
     "data": {
      "text/plain": [
       "[1, 2, 3, 4, 5, 6, 7, 8, 9, 10]"
      ]
     },
     "execution_count": 2,
     "metadata": {},
     "output_type": "execute_result"
    }
   ],
   "source": [
    "elements_list = [1, 2, 3, 4, 5, 6, 7, 8, 9, 10]\n",
    "elements_list"
   ]
  },
  {
   "cell_type": "code",
   "execution_count": 18,
   "metadata": {},
   "outputs": [
    {
     "name": "stdout",
     "output_type": "stream",
     "text": [
      "[[[ 1  2]\n",
      "  [ 3  4]\n",
      "  [ 5  6]]\n",
      "\n",
      " [[ 7  8]\n",
      "  [ 9 10]\n",
      "  [11 12]]]\n",
      "(2, 3, 2)\n"
     ]
    }
   ],
   "source": [
    "a = np.array([[[1,2],[3, 4],[5, 6]], [[7, 8],[9, 10],[11,12]]])\n",
    "print(a)\n",
    "print(a.shape)"
   ]
  },
  {
   "cell_type": "code",
   "execution_count": 19,
   "metadata": {},
   "outputs": [
    {
     "data": {
      "text/plain": [
       "array([[[ 1,  2],\n",
       "        [ 3,  4],\n",
       "        [ 5,  6]],\n",
       "\n",
       "       [[ 7,  8],\n",
       "        [ 9, 10],\n",
       "        [11, 12]]])"
      ]
     },
     "execution_count": 19,
     "metadata": {},
     "output_type": "execute_result"
    }
   ],
   "source": [
    "#Print the first row of the array\n",
    "a"
   ]
  },
  {
   "cell_type": "code",
   "execution_count": 24,
   "metadata": {},
   "outputs": [
    {
     "data": {
      "text/plain": [
       "array([[ 3,  4],\n",
       "       [ 9, 10]])"
      ]
     },
     "execution_count": 24,
     "metadata": {},
     "output_type": "execute_result"
    }
   ],
   "source": [
    "b = a[0:, 1]\n",
    "b"
   ]
  },
  {
   "cell_type": "code",
   "execution_count": 25,
   "metadata": {},
   "outputs": [
    {
     "data": {
      "text/plain": [
       "array([[ 7,  8],\n",
       "       [ 9, 10],\n",
       "       [11, 12]])"
      ]
     },
     "execution_count": 25,
     "metadata": {},
     "output_type": "execute_result"
    }
   ],
   "source": [
    "b = a[1]\n",
    "b"
   ]
  },
  {
   "cell_type": "code",
   "execution_count": 26,
   "metadata": {},
   "outputs": [
    {
     "data": {
      "text/plain": [
       "array([[1, 2],\n",
       "       [3, 4],\n",
       "       [5, 6]])"
      ]
     },
     "execution_count": 26,
     "metadata": {},
     "output_type": "execute_result"
    }
   ],
   "source": [
    "b = a[0]\n",
    "b"
   ]
  },
  {
   "cell_type": "markdown",
   "metadata": {},
   "source": [
    "Challenge: Using `challenge_list = [1,2,3,4,5]`, create a new list that should equal `[0, 1, 2, 3, 6, 5, 12, 7, 20, 9]`\n",
    "Hint1: Use a for loop!\n",
    "Hint2: The first number in challenge_list is multiplied by its index to get the first number in the new_list. The first number in challenge_list is added to its index to get the second number in the new list. This repeats for each number in challenge_list.\n",
    "\n",
    "Question:\n",
    "What are some differences between a list and a numpy array?"
   ]
  },
  {
   "cell_type": "code",
   "execution_count": 38,
   "metadata": {},
   "outputs": [
    {
     "name": "stdout",
     "output_type": "stream",
     "text": [
      "[0, 1, 2, 3, 6, 5, 12, 7, 20, 9]\n"
     ]
    }
   ],
   "source": [
    "#Copy from friend Christian\n",
    "#def function():\n",
    " #  a + b  NOT DONE YET\n",
    "\n",
    "challenge_list = [1,2,3,4,5]\n",
    "newval= []\n",
    "for i in range(len(challenge_list)):\n",
    "   newval.append(challenge_list[i] * i)\n",
    "   newval.append(challenge_list[i] + i)\n",
    "\n",
    "print(newval)"
   ]
  },
  {
   "cell_type": "code",
   "execution_count": 7,
   "metadata": {},
   "outputs": [
    {
     "name": "stdout",
     "output_type": "stream",
     "text": [
      "[0, 1, 2, 3, 6, 5, 12, 7, 20, 9]\n"
     ]
    }
   ],
   "source": [
    "challenge_list = [1, 2, 3, 4, 5]\n",
    "newval = []\n",
    "for i in challenge_list:\n",
    "   newval.append(i * (i - 1))\n",
    "   newval.append(i + i - 1)\n",
    "\n",
    "print(newval)"
   ]
  },
  {
   "cell_type": "code",
   "execution_count": 9,
   "metadata": {},
   "outputs": [
    {
     "name": "stdout",
     "output_type": "stream",
     "text": [
      "[0, 1, 2, 3, 6, 5, 12, 7, 20, 9]\n"
     ]
    }
   ],
   "source": [
    "challenge_list = [1, 2, 3, 4, 5]\n",
    "newval = []\n",
    "for i in challenge_list:\n",
    "   newval.append(i * challenge_list.index(i))\n",
    "   newval.append(i + challenge_list.index(i))\n",
    "\n",
    "print(newval)"
   ]
  },
  {
   "cell_type": "code",
   "execution_count": 37,
   "metadata": {},
   "outputs": [
    {
     "data": {
      "text/plain": [
       "range(0, 5)"
      ]
     },
     "execution_count": 37,
     "metadata": {},
     "output_type": "execute_result"
    }
   ],
   "source": [
    "range(len(challenge_list))"
   ]
  },
  {
   "cell_type": "code",
   "execution_count": 32,
   "metadata": {},
   "outputs": [
    {
     "name": "stdout",
     "output_type": "stream",
     "text": [
      "one\n",
      "two\n",
      "three\n",
      "four\n",
      "five\n"
     ]
    }
   ],
   "source": [
    "my_list = ['one', 'two', 'three', 'four', 'five']\n",
    "my_list_len = len(my_list)\n",
    "for i in range(0, my_list_len):\n",
    "    print(my_list[i])\n"
   ]
  },
  {
   "cell_type": "code",
   "execution_count": 30,
   "metadata": {},
   "outputs": [
    {
     "data": {
      "text/plain": [
       "range(0, 5)"
      ]
     },
     "execution_count": 30,
     "metadata": {},
     "output_type": "execute_result"
    }
   ],
   "source": [
    "range(5)"
   ]
  },
  {
   "cell_type": "code",
   "execution_count": 31,
   "metadata": {},
   "outputs": [
    {
     "name": "stdout",
     "output_type": "stream",
     "text": [
      "range(0, 5)\n"
     ]
    }
   ],
   "source": [
    "print(range(5))"
   ]
  },
  {
   "cell_type": "code",
   "execution_count": null,
   "metadata": {},
   "outputs": [],
   "source": []
  }
 ],
 "metadata": {
  "kernelspec": {
   "display_name": "Python 3",
   "language": "python",
   "name": "python3"
  },
  "language_info": {
   "codemirror_mode": {
    "name": "ipython",
    "version": 3
   },
   "file_extension": ".py",
   "mimetype": "text/x-python",
   "name": "python",
   "nbconvert_exporter": "python",
   "pygments_lexer": "ipython3",
   "version": "3.7.3"
  }
 },
 "nbformat": 4,
 "nbformat_minor": 2
}
