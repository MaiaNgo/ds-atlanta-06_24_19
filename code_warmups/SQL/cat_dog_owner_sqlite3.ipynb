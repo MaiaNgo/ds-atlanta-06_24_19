{
 "cells": [
  {
   "cell_type": "code",
   "execution_count": 33,
   "metadata": {},
   "outputs": [],
   "source": [
    "import pandas as pd\n",
    "import sqlite3"
   ]
  },
  {
   "cell_type": "code",
   "execution_count": 34,
   "metadata": {},
   "outputs": [],
   "source": [
    "conn = sqlite3.connect('dogs.db')\n",
    "c = conn.cursor()"
   ]
  },
  {
   "cell_type": "code",
   "execution_count": 35,
   "metadata": {},
   "outputs": [
    {
     "data": {
      "text/html": [
       "<div>\n",
       "<style scoped>\n",
       "    .dataframe tbody tr th:only-of-type {\n",
       "        vertical-align: middle;\n",
       "    }\n",
       "\n",
       "    .dataframe tbody tr th {\n",
       "        vertical-align: top;\n",
       "    }\n",
       "\n",
       "    .dataframe thead th {\n",
       "        text-align: right;\n",
       "    }\n",
       "</style>\n",
       "<table border=\"1\" class=\"dataframe\">\n",
       "  <thead>\n",
       "    <tr style=\"text-align: right;\">\n",
       "      <th></th>\n",
       "      <th>Name</th>\n",
       "      <th>Breed</th>\n",
       "      <th>House_Number</th>\n",
       "      <th>Owner_ID</th>\n",
       "    </tr>\n",
       "  </thead>\n",
       "  <tbody>\n",
       "    <tr>\n",
       "      <th>0</th>\n",
       "      <td>Rex</td>\n",
       "      <td>Chihuahua</td>\n",
       "      <td>1</td>\n",
       "      <td>3</td>\n",
       "    </tr>\n",
       "    <tr>\n",
       "      <th>1</th>\n",
       "      <td>Clifford</td>\n",
       "      <td>German Shepherd</td>\n",
       "      <td>2</td>\n",
       "      <td>2</td>\n",
       "    </tr>\n",
       "    <tr>\n",
       "      <th>2</th>\n",
       "      <td>Lucky</td>\n",
       "      <td>Daschund</td>\n",
       "      <td>3</td>\n",
       "      <td>1</td>\n",
       "    </tr>\n",
       "    <tr>\n",
       "      <th>3</th>\n",
       "      <td>Bobo</td>\n",
       "      <td>Shih-Tzu</td>\n",
       "      <td>2</td>\n",
       "      <td>4</td>\n",
       "    </tr>\n",
       "    <tr>\n",
       "      <th>4</th>\n",
       "      <td>Buddy</td>\n",
       "      <td>Golden Retriever</td>\n",
       "      <td>4</td>\n",
       "      <td>2</td>\n",
       "    </tr>\n",
       "  </tbody>\n",
       "</table>\n",
       "</div>"
      ],
      "text/plain": [
       "       Name             Breed House_Number Owner_ID\n",
       "0       Rex         Chihuahua            1        3\n",
       "1  Clifford   German Shepherd            2        2\n",
       "2     Lucky          Daschund            3        1\n",
       "3      Bobo          Shih-Tzu            2        4\n",
       "4     Buddy  Golden Retriever            4        2"
      ]
     },
     "execution_count": 35,
     "metadata": {},
     "output_type": "execute_result"
    }
   ],
   "source": [
    "c.execute('''SELECT *\n",
    "             FROM dogs;''')\n",
    "df = pd.DataFrame(c.fetchall()) #Take results and create dataframe\n",
    "df.columns = [i[0] for i in c.description]\n",
    "df.head()"
   ]
  },
  {
   "cell_type": "code",
   "execution_count": 36,
   "metadata": {},
   "outputs": [],
   "source": [
    "conn = sqlite3.connect('cats.db')\n",
    "c = conn.cursor()"
   ]
  },
  {
   "cell_type": "code",
   "execution_count": 37,
   "metadata": {},
   "outputs": [
    {
     "data": {
      "text/html": [
       "<div>\n",
       "<style scoped>\n",
       "    .dataframe tbody tr th:only-of-type {\n",
       "        vertical-align: middle;\n",
       "    }\n",
       "\n",
       "    .dataframe tbody tr th {\n",
       "        vertical-align: top;\n",
       "    }\n",
       "\n",
       "    .dataframe thead th {\n",
       "        text-align: right;\n",
       "    }\n",
       "</style>\n",
       "<table border=\"1\" class=\"dataframe\">\n",
       "  <thead>\n",
       "    <tr style=\"text-align: right;\">\n",
       "      <th></th>\n",
       "      <th>Name</th>\n",
       "      <th>Breed</th>\n",
       "      <th>House_Number</th>\n",
       "      <th>Owner_ID</th>\n",
       "    </tr>\n",
       "  </thead>\n",
       "  <tbody>\n",
       "    <tr>\n",
       "      <th>0</th>\n",
       "      <td>Bell</td>\n",
       "      <td>Siamese</td>\n",
       "      <td>1</td>\n",
       "      <td>4</td>\n",
       "    </tr>\n",
       "    <tr>\n",
       "      <th>1</th>\n",
       "      <td>Jackson</td>\n",
       "      <td>Balinese</td>\n",
       "      <td>2</td>\n",
       "      <td>3</td>\n",
       "    </tr>\n",
       "    <tr>\n",
       "      <th>2</th>\n",
       "      <td>Precious</td>\n",
       "      <td>Himalayan</td>\n",
       "      <td>3</td>\n",
       "      <td>4</td>\n",
       "    </tr>\n",
       "    <tr>\n",
       "      <th>3</th>\n",
       "      <td>Rocky</td>\n",
       "      <td>Egyptian Mau</td>\n",
       "      <td>4</td>\n",
       "      <td>2</td>\n",
       "    </tr>\n",
       "    <tr>\n",
       "      <th>4</th>\n",
       "      <td>Samson</td>\n",
       "      <td>Javanese</td>\n",
       "      <td>5</td>\n",
       "      <td>1</td>\n",
       "    </tr>\n",
       "  </tbody>\n",
       "</table>\n",
       "</div>"
      ],
      "text/plain": [
       "       Name         Breed House_Number Owner_ID\n",
       "0      Bell       Siamese            1        4\n",
       "1   Jackson      Balinese            2        3\n",
       "2  Precious     Himalayan            3        4\n",
       "3     Rocky  Egyptian Mau            4        2\n",
       "4    Samson      Javanese            5        1"
      ]
     },
     "execution_count": 37,
     "metadata": {},
     "output_type": "execute_result"
    }
   ],
   "source": [
    "c.execute('''SELECT *\n",
    "             FROM cats;''')\n",
    "df = pd.DataFrame(c.fetchall()) #Take results and create dataframe\n",
    "df.columns = [i[0] for i in c.description]\n",
    "df.head()"
   ]
  },
  {
   "cell_type": "code",
   "execution_count": 47,
   "metadata": {},
   "outputs": [],
   "source": [
    "conn = sqlite3.connect('pets.db')\n",
    "c = conn.cursor()"
   ]
  },
  {
   "cell_type": "code",
   "execution_count": 39,
   "metadata": {},
   "outputs": [
    {
     "name": "stdout",
     "output_type": "stream",
     "text": [
      "3_2_sql_joins.md            dogs.db\r\n",
      "Untitled.ipynb              owners.db\r\n",
      "cat_dog_owner_sqlite3.ipynb pets.db\r\n",
      "cats.db\r\n"
     ]
    }
   ],
   "source": [
    "!ls"
   ]
  },
  {
   "cell_type": "code",
   "execution_count": 48,
   "metadata": {},
   "outputs": [
    {
     "data": {
      "text/html": [
       "<div>\n",
       "<style scoped>\n",
       "    .dataframe tbody tr th:only-of-type {\n",
       "        vertical-align: middle;\n",
       "    }\n",
       "\n",
       "    .dataframe tbody tr th {\n",
       "        vertical-align: top;\n",
       "    }\n",
       "\n",
       "    .dataframe thead th {\n",
       "        text-align: right;\n",
       "    }\n",
       "</style>\n",
       "<table border=\"1\" class=\"dataframe\">\n",
       "  <thead>\n",
       "    <tr style=\"text-align: right;\">\n",
       "      <th></th>\n",
       "      <th>type</th>\n",
       "      <th>name</th>\n",
       "      <th>tbl_name</th>\n",
       "      <th>rootpage</th>\n",
       "      <th>sql</th>\n",
       "    </tr>\n",
       "  </thead>\n",
       "  <tbody>\n",
       "    <tr>\n",
       "      <th>0</th>\n",
       "      <td>table</td>\n",
       "      <td>owners</td>\n",
       "      <td>owners</td>\n",
       "      <td>2</td>\n",
       "      <td>CREATE TABLE owners(\\n  \"Name\" TEXT,\\n  \"Phone...</td>\n",
       "    </tr>\n",
       "    <tr>\n",
       "      <th>1</th>\n",
       "      <td>table</td>\n",
       "      <td>dogs</td>\n",
       "      <td>dogs</td>\n",
       "      <td>3</td>\n",
       "      <td>CREATE TABLE dogs(\\n  \"Name\" TEXT,\\n  \"Breed\" ...</td>\n",
       "    </tr>\n",
       "    <tr>\n",
       "      <th>2</th>\n",
       "      <td>table</td>\n",
       "      <td>cats</td>\n",
       "      <td>cats</td>\n",
       "      <td>4</td>\n",
       "      <td>CREATE TABLE cats(\\n  \"Name\" TEXT,\\n  \"Breed\" ...</td>\n",
       "    </tr>\n",
       "  </tbody>\n",
       "</table>\n",
       "</div>"
      ],
      "text/plain": [
       "    type    name tbl_name  rootpage  \\\n",
       "0  table  owners   owners         2   \n",
       "1  table    dogs     dogs         3   \n",
       "2  table    cats     cats         4   \n",
       "\n",
       "                                                 sql  \n",
       "0  CREATE TABLE owners(\\n  \"Name\" TEXT,\\n  \"Phone...  \n",
       "1  CREATE TABLE dogs(\\n  \"Name\" TEXT,\\n  \"Breed\" ...  \n",
       "2  CREATE TABLE cats(\\n  \"Name\" TEXT,\\n  \"Breed\" ...  "
      ]
     },
     "execution_count": 48,
     "metadata": {},
     "output_type": "execute_result"
    }
   ],
   "source": [
    "c.execute('''SELECT *\n",
    "             FROM sqlite_master\n",
    "             WHERE type='table';''')\n",
    "df = pd.DataFrame(c.fetchall()) #Take results and create dataframe\n",
    "df.columns = [i[0] for i in c.description]\n",
    "df.head()"
   ]
  },
  {
   "cell_type": "code",
   "execution_count": 69,
   "metadata": {},
   "outputs": [
    {
     "data": {
      "text/html": [
       "<div>\n",
       "<style scoped>\n",
       "    .dataframe tbody tr th:only-of-type {\n",
       "        vertical-align: middle;\n",
       "    }\n",
       "\n",
       "    .dataframe tbody tr th {\n",
       "        vertical-align: top;\n",
       "    }\n",
       "\n",
       "    .dataframe thead th {\n",
       "        text-align: right;\n",
       "    }\n",
       "</style>\n",
       "<table border=\"1\" class=\"dataframe\">\n",
       "  <thead>\n",
       "    <tr style=\"text-align: right;\">\n",
       "      <th></th>\n",
       "      <th>Name</th>\n",
       "      <th>Phone</th>\n",
       "      <th>Address</th>\n",
       "      <th>ID</th>\n",
       "    </tr>\n",
       "  </thead>\n",
       "  <tbody>\n",
       "    <tr>\n",
       "      <th>0</th>\n",
       "      <td>Josh Daniell</td>\n",
       "      <td>3132879573</td>\n",
       "      <td>1440 G st.</td>\n",
       "      <td>1</td>\n",
       "    </tr>\n",
       "    <tr>\n",
       "      <th>1</th>\n",
       "      <td>Alison Peebles Madigan</td>\n",
       "      <td>2147098190</td>\n",
       "      <td>None</td>\n",
       "      <td>2</td>\n",
       "    </tr>\n",
       "    <tr>\n",
       "      <th>2</th>\n",
       "      <td>Avi Flombaum</td>\n",
       "      <td>4698780125</td>\n",
       "      <td>1776 New York Ave</td>\n",
       "      <td>3</td>\n",
       "    </tr>\n",
       "    <tr>\n",
       "      <th>3</th>\n",
       "      <td>Justin Bieber</td>\n",
       "      <td>4103810987</td>\n",
       "      <td>None</td>\n",
       "      <td>4</td>\n",
       "    </tr>\n",
       "  </tbody>\n",
       "</table>\n",
       "</div>"
      ],
      "text/plain": [
       "                     Name       Phone            Address ID\n",
       "0            Josh Daniell  3132879573         1440 G st.  1\n",
       "1  Alison Peebles Madigan  2147098190               None  2\n",
       "2            Avi Flombaum  4698780125  1776 New York Ave  3\n",
       "3           Justin Bieber  4103810987               None  4"
      ]
     },
     "execution_count": 69,
     "metadata": {},
     "output_type": "execute_result"
    }
   ],
   "source": [
    "c.execute('''SELECT *\n",
    "             FROM dogs;''')\n",
    "df = pd.DataFrame(c.fetchall()) #Take results and create dataframe\n",
    "df.columns = [i[0] for i in c.description]\n",
    "df.head()"
   ]
  },
  {
   "cell_type": "code",
   "execution_count": 54,
   "metadata": {},
   "outputs": [
    {
     "data": {
      "text/html": [
       "<div>\n",
       "<style scoped>\n",
       "    .dataframe tbody tr th:only-of-type {\n",
       "        vertical-align: middle;\n",
       "    }\n",
       "\n",
       "    .dataframe tbody tr th {\n",
       "        vertical-align: top;\n",
       "    }\n",
       "\n",
       "    .dataframe thead th {\n",
       "        text-align: right;\n",
       "    }\n",
       "</style>\n",
       "<table border=\"1\" class=\"dataframe\">\n",
       "  <thead>\n",
       "    <tr style=\"text-align: right;\">\n",
       "      <th></th>\n",
       "      <th>Name</th>\n",
       "      <th>Breed</th>\n",
       "      <th>House_Number</th>\n",
       "      <th>Owner_ID</th>\n",
       "    </tr>\n",
       "  </thead>\n",
       "  <tbody>\n",
       "    <tr>\n",
       "      <th>0</th>\n",
       "      <td>Bell</td>\n",
       "      <td>Siamese</td>\n",
       "      <td>1</td>\n",
       "      <td>4</td>\n",
       "    </tr>\n",
       "    <tr>\n",
       "      <th>1</th>\n",
       "      <td>Jackson</td>\n",
       "      <td>Balinese</td>\n",
       "      <td>2</td>\n",
       "      <td>3</td>\n",
       "    </tr>\n",
       "    <tr>\n",
       "      <th>2</th>\n",
       "      <td>Precious</td>\n",
       "      <td>Himalayan</td>\n",
       "      <td>3</td>\n",
       "      <td>4</td>\n",
       "    </tr>\n",
       "    <tr>\n",
       "      <th>3</th>\n",
       "      <td>Rocky</td>\n",
       "      <td>Egyptian Mau</td>\n",
       "      <td>4</td>\n",
       "      <td>2</td>\n",
       "    </tr>\n",
       "    <tr>\n",
       "      <th>4</th>\n",
       "      <td>Samson</td>\n",
       "      <td>Javanese</td>\n",
       "      <td>5</td>\n",
       "      <td>1</td>\n",
       "    </tr>\n",
       "  </tbody>\n",
       "</table>\n",
       "</div>"
      ],
      "text/plain": [
       "       Name         Breed House_Number Owner_ID\n",
       "0      Bell       Siamese            1        4\n",
       "1   Jackson      Balinese            2        3\n",
       "2  Precious     Himalayan            3        4\n",
       "3     Rocky  Egyptian Mau            4        2\n",
       "4    Samson      Javanese            5        1"
      ]
     },
     "execution_count": 54,
     "metadata": {},
     "output_type": "execute_result"
    }
   ],
   "source": [
    "c.execute('''SELECT *\n",
    "             FROM cats;''')\n",
    "df = pd.DataFrame(c.fetchall()) #Take results and create dataframe\n",
    "df.columns = [i[0] for i in c.description]\n",
    "df.head()"
   ]
  },
  {
   "cell_type": "code",
   "execution_count": 53,
   "metadata": {},
   "outputs": [
    {
     "data": {
      "text/html": [
       "<div>\n",
       "<style scoped>\n",
       "    .dataframe tbody tr th:only-of-type {\n",
       "        vertical-align: middle;\n",
       "    }\n",
       "\n",
       "    .dataframe tbody tr th {\n",
       "        vertical-align: top;\n",
       "    }\n",
       "\n",
       "    .dataframe thead th {\n",
       "        text-align: right;\n",
       "    }\n",
       "</style>\n",
       "<table border=\"1\" class=\"dataframe\">\n",
       "  <thead>\n",
       "    <tr style=\"text-align: right;\">\n",
       "      <th></th>\n",
       "      <th>Name</th>\n",
       "      <th>Phone</th>\n",
       "      <th>Address</th>\n",
       "      <th>ID</th>\n",
       "    </tr>\n",
       "  </thead>\n",
       "  <tbody>\n",
       "    <tr>\n",
       "      <th>0</th>\n",
       "      <td>Josh Daniell</td>\n",
       "      <td>3132879573</td>\n",
       "      <td>1440 G st.</td>\n",
       "      <td>1</td>\n",
       "    </tr>\n",
       "    <tr>\n",
       "      <th>1</th>\n",
       "      <td>Alison Peebles Madigan</td>\n",
       "      <td>2147098190</td>\n",
       "      <td>None</td>\n",
       "      <td>2</td>\n",
       "    </tr>\n",
       "    <tr>\n",
       "      <th>2</th>\n",
       "      <td>Avi Flombaum</td>\n",
       "      <td>4698780125</td>\n",
       "      <td>1776 New York Ave</td>\n",
       "      <td>3</td>\n",
       "    </tr>\n",
       "    <tr>\n",
       "      <th>3</th>\n",
       "      <td>Justin Bieber</td>\n",
       "      <td>4103810987</td>\n",
       "      <td>None</td>\n",
       "      <td>4</td>\n",
       "    </tr>\n",
       "  </tbody>\n",
       "</table>\n",
       "</div>"
      ],
      "text/plain": [
       "                     Name       Phone            Address ID\n",
       "0            Josh Daniell  3132879573         1440 G st.  1\n",
       "1  Alison Peebles Madigan  2147098190               None  2\n",
       "2            Avi Flombaum  4698780125  1776 New York Ave  3\n",
       "3           Justin Bieber  4103810987               None  4"
      ]
     },
     "execution_count": 53,
     "metadata": {},
     "output_type": "execute_result"
    }
   ],
   "source": [
    "c.execute('''SELECT *\n",
    "             FROM owners;''')\n",
    "df = pd.DataFrame(c.fetchall()) #Take results and create dataframe\n",
    "df.columns = [i[0] for i in c.description]\n",
    "df.head()"
   ]
  },
  {
   "cell_type": "code",
   "execution_count": 42,
   "metadata": {},
   "outputs": [
    {
     "data": {
      "text/plain": [
       "[('owners',), ('dogs',), ('cats',)]"
      ]
     },
     "execution_count": 42,
     "metadata": {},
     "output_type": "execute_result"
    }
   ],
   "source": [
    "c.execute ('''select name from sqlite_master where type = 'table';''').fetchall()"
   ]
  },
  {
   "cell_type": "code",
   "execution_count": 43,
   "metadata": {},
   "outputs": [],
   "source": [
    "conn = sqlite3.connect('owners.db')\n",
    "c = conn.cursor()"
   ]
  },
  {
   "cell_type": "code",
   "execution_count": null,
   "metadata": {},
   "outputs": [],
   "source": [
    "#Write the appropriate SQL queries to satisfy the following prompts:\n",
    "\n",
    "\n",
    "\n",
    "\n",
    "\n",
    "\n",
    "#Grab the names and phone numbers of owners with pets in house 4 that do not currently have an address."
   ]
  },
  {
   "cell_type": "code",
   "execution_count": 56,
   "metadata": {},
   "outputs": [
    {
     "data": {
      "text/html": [
       "<div>\n",
       "<style scoped>\n",
       "    .dataframe tbody tr th:only-of-type {\n",
       "        vertical-align: middle;\n",
       "    }\n",
       "\n",
       "    .dataframe tbody tr th {\n",
       "        vertical-align: top;\n",
       "    }\n",
       "\n",
       "    .dataframe thead th {\n",
       "        text-align: right;\n",
       "    }\n",
       "</style>\n",
       "<table border=\"1\" class=\"dataframe\">\n",
       "  <thead>\n",
       "    <tr style=\"text-align: right;\">\n",
       "      <th></th>\n",
       "      <th>ownerName</th>\n",
       "      <th>dogName</th>\n",
       "      <th>catName</th>\n",
       "    </tr>\n",
       "  </thead>\n",
       "  <tbody>\n",
       "    <tr>\n",
       "      <th>0</th>\n",
       "      <td>Josh Daniell</td>\n",
       "      <td>Lucky</td>\n",
       "      <td>Samson</td>\n",
       "    </tr>\n",
       "    <tr>\n",
       "      <th>1</th>\n",
       "      <td>Alison Peebles Madigan</td>\n",
       "      <td>Buddy</td>\n",
       "      <td>Rocky</td>\n",
       "    </tr>\n",
       "    <tr>\n",
       "      <th>2</th>\n",
       "      <td>Alison Peebles Madigan</td>\n",
       "      <td>Clifford</td>\n",
       "      <td>Rocky</td>\n",
       "    </tr>\n",
       "    <tr>\n",
       "      <th>3</th>\n",
       "      <td>Alison Peebles Madigan</td>\n",
       "      <td>Leo</td>\n",
       "      <td>Rocky</td>\n",
       "    </tr>\n",
       "    <tr>\n",
       "      <th>4</th>\n",
       "      <td>Avi Flombaum</td>\n",
       "      <td>Rex</td>\n",
       "      <td>Jackson</td>\n",
       "    </tr>\n",
       "  </tbody>\n",
       "</table>\n",
       "</div>"
      ],
      "text/plain": [
       "                ownerName   dogName  catName\n",
       "0            Josh Daniell     Lucky   Samson\n",
       "1  Alison Peebles Madigan     Buddy    Rocky\n",
       "2  Alison Peebles Madigan  Clifford    Rocky\n",
       "3  Alison Peebles Madigan       Leo    Rocky\n",
       "4            Avi Flombaum       Rex  Jackson"
      ]
     },
     "execution_count": 56,
     "metadata": {},
     "output_type": "execute_result"
    }
   ],
   "source": [
    "#A. Write a SQL query that can grab the names of all pets owned by the founder of Flatiron School, Avi Flombaum\n",
    "\n",
    "c.execute('''SELECT owners.Name as ownerName, dogs.Name as dogName, cats.Name as catName\n",
    "             FROM owners JOIN dogs ON owners.ID = dogs.Owner_ID\n",
    "                         JOIN cats ON owners.ID = cats.Owner_ID;\n",
    "          ''')\n",
    "df = pd.DataFrame(c.fetchall()) #Take results and create dataframe\n",
    "df.columns = [i[0] for i in c.description]\n",
    "df.head()\n"
   ]
  },
  {
   "cell_type": "code",
   "execution_count": 58,
   "metadata": {},
   "outputs": [
    {
     "data": {
      "text/html": [
       "<div>\n",
       "<style scoped>\n",
       "    .dataframe tbody tr th:only-of-type {\n",
       "        vertical-align: middle;\n",
       "    }\n",
       "\n",
       "    .dataframe tbody tr th {\n",
       "        vertical-align: top;\n",
       "    }\n",
       "\n",
       "    .dataframe thead th {\n",
       "        text-align: right;\n",
       "    }\n",
       "</style>\n",
       "<table border=\"1\" class=\"dataframe\">\n",
       "  <thead>\n",
       "    <tr style=\"text-align: right;\">\n",
       "      <th></th>\n",
       "      <th>ownerName</th>\n",
       "      <th>dogName</th>\n",
       "      <th>catName</th>\n",
       "    </tr>\n",
       "  </thead>\n",
       "  <tbody>\n",
       "    <tr>\n",
       "      <th>0</th>\n",
       "      <td>Avi Flombaum</td>\n",
       "      <td>Rex</td>\n",
       "      <td>Jackson</td>\n",
       "    </tr>\n",
       "  </tbody>\n",
       "</table>\n",
       "</div>"
      ],
      "text/plain": [
       "      ownerName dogName  catName\n",
       "0  Avi Flombaum     Rex  Jackson"
      ]
     },
     "execution_count": 58,
     "metadata": {},
     "output_type": "execute_result"
    }
   ],
   "source": [
    "#A. Write a SQL query that can grab the names of all pets owned by the founder of Flatiron School, Avi Flombaum\n",
    "c.execute('''SELECT owners.Name as ownerName, dogs.Name as dogName, cats.Name as catName\n",
    "             FROM owners JOIN dogs ON owners.ID = dogs.Owner_ID\n",
    "                         JOIN cats ON owners.ID = cats.Owner_ID\n",
    "             WHERE owners.Name = 'Avi Flombaum';\n",
    "          ''')\n",
    "df = pd.DataFrame(c.fetchall()) #Take results and create dataframe\n",
    "df.columns = [i[0] for i in c.description]\n",
    "df.head()"
   ]
  },
  {
   "cell_type": "code",
   "execution_count": 73,
   "metadata": {},
   "outputs": [
    {
     "data": {
      "text/html": [
       "<div>\n",
       "<style scoped>\n",
       "    .dataframe tbody tr th:only-of-type {\n",
       "        vertical-align: middle;\n",
       "    }\n",
       "\n",
       "    .dataframe tbody tr th {\n",
       "        vertical-align: top;\n",
       "    }\n",
       "\n",
       "    .dataframe thead th {\n",
       "        text-align: right;\n",
       "    }\n",
       "</style>\n",
       "<table border=\"1\" class=\"dataframe\">\n",
       "  <thead>\n",
       "    <tr style=\"text-align: right;\">\n",
       "      <th></th>\n",
       "      <th>Name</th>\n",
       "      <th>count(*)</th>\n",
       "    </tr>\n",
       "  </thead>\n",
       "  <tbody>\n",
       "    <tr>\n",
       "      <th>0</th>\n",
       "      <td>Alison Peebles Madigan</td>\n",
       "      <td>3</td>\n",
       "    </tr>\n",
       "    <tr>\n",
       "      <th>1</th>\n",
       "      <td>Avi Flombaum</td>\n",
       "      <td>1</td>\n",
       "    </tr>\n",
       "    <tr>\n",
       "      <th>2</th>\n",
       "      <td>Josh Daniell</td>\n",
       "      <td>1</td>\n",
       "    </tr>\n",
       "    <tr>\n",
       "      <th>3</th>\n",
       "      <td>Justin Bieber</td>\n",
       "      <td>2</td>\n",
       "    </tr>\n",
       "  </tbody>\n",
       "</table>\n",
       "</div>"
      ],
      "text/plain": [
       "                     Name  count(*)\n",
       "0  Alison Peebles Madigan         3\n",
       "1            Avi Flombaum         1\n",
       "2            Josh Daniell         1\n",
       "3           Justin Bieber         2"
      ]
     },
     "execution_count": 73,
     "metadata": {},
     "output_type": "execute_result"
    }
   ],
   "source": [
    "#B. Which House_Number contains the most number of pets in it and how many?\n",
    "c.execute('''SELECT owners.Name, count(*)\n",
    "             FROM owners JOIN dogs ON owners.ID = dogs.Owner_ID\n",
    "                         JOIN cats ON owners.ID = cats.Owner_ID\n",
    "             GROUP BY  owners.Name;\n",
    "          ''')\n",
    "df = pd.DataFrame(c.fetchall()) #Take results and create dataframe\n",
    "df.columns = [i[0] for i in c.description]\n",
    "df.head()"
   ]
  },
  {
   "cell_type": "code",
   "execution_count": 83,
   "metadata": {},
   "outputs": [
    {
     "data": {
      "text/html": [
       "<div>\n",
       "<style scoped>\n",
       "    .dataframe tbody tr th:only-of-type {\n",
       "        vertical-align: middle;\n",
       "    }\n",
       "\n",
       "    .dataframe tbody tr th {\n",
       "        vertical-align: top;\n",
       "    }\n",
       "\n",
       "    .dataframe thead th {\n",
       "        text-align: right;\n",
       "    }\n",
       "</style>\n",
       "<table border=\"1\" class=\"dataframe\">\n",
       "  <thead>\n",
       "    <tr style=\"text-align: right;\">\n",
       "      <th></th>\n",
       "      <th>House_Number</th>\n",
       "      <th>Total_Pets</th>\n",
       "    </tr>\n",
       "  </thead>\n",
       "  <tbody>\n",
       "    <tr>\n",
       "      <th>0</th>\n",
       "      <td>1</td>\n",
       "      <td>3</td>\n",
       "    </tr>\n",
       "    <tr>\n",
       "      <th>1</th>\n",
       "      <td>2</td>\n",
       "      <td>3</td>\n",
       "    </tr>\n",
       "    <tr>\n",
       "      <th>2</th>\n",
       "      <td>3</td>\n",
       "      <td>2</td>\n",
       "    </tr>\n",
       "    <tr>\n",
       "      <th>3</th>\n",
       "      <td>4</td>\n",
       "      <td>2</td>\n",
       "    </tr>\n",
       "    <tr>\n",
       "      <th>4</th>\n",
       "      <td>5</td>\n",
       "      <td>1</td>\n",
       "    </tr>\n",
       "  </tbody>\n",
       "</table>\n",
       "</div>"
      ],
      "text/plain": [
       "  House_Number  Total_Pets\n",
       "0            1           3\n",
       "1            2           3\n",
       "2            3           2\n",
       "3            4           2\n",
       "4            5           1"
      ]
     },
     "execution_count": 83,
     "metadata": {},
     "output_type": "execute_result"
    }
   ],
   "source": [
    "#B. How many pets each House_Number contains?\n",
    "c.execute('''SELECT House_Number, count(*) as Total_Pets\n",
    "             FROM\n",
    "                 (\n",
    "                 SELECT *\n",
    "                 FROM dogs\n",
    "                 UNION\n",
    "                 SELECT *\n",
    "                 FROM cats\n",
    "                 )\n",
    "             GROUP BY House_Number;\n",
    "          ''')\n",
    "df = pd.DataFrame(c.fetchall()) #Take results and create dataframe\n",
    "df.columns = [i[0] for i in c.description]\n",
    "df.head(100)"
   ]
  },
  {
   "cell_type": "code",
   "execution_count": 85,
   "metadata": {},
   "outputs": [
    {
     "data": {
      "text/html": [
       "<div>\n",
       "<style scoped>\n",
       "    .dataframe tbody tr th:only-of-type {\n",
       "        vertical-align: middle;\n",
       "    }\n",
       "\n",
       "    .dataframe tbody tr th {\n",
       "        vertical-align: top;\n",
       "    }\n",
       "\n",
       "    .dataframe thead th {\n",
       "        text-align: right;\n",
       "    }\n",
       "</style>\n",
       "<table border=\"1\" class=\"dataframe\">\n",
       "  <thead>\n",
       "    <tr style=\"text-align: right;\">\n",
       "      <th></th>\n",
       "      <th>House_Number</th>\n",
       "      <th>Total_Pets</th>\n",
       "    </tr>\n",
       "  </thead>\n",
       "  <tbody>\n",
       "    <tr>\n",
       "      <th>0</th>\n",
       "      <td>1</td>\n",
       "      <td>3</td>\n",
       "    </tr>\n",
       "  </tbody>\n",
       "</table>\n",
       "</div>"
      ],
      "text/plain": [
       "  House_Number  Total_Pets\n",
       "0            1           3"
      ]
     },
     "execution_count": 85,
     "metadata": {},
     "output_type": "execute_result"
    }
   ],
   "source": [
    "#B. Which House_Number contains the most number of pets in it and how many?\n",
    "c.execute('''SELECT House_Number, count(*) as Total_Pets\n",
    "             FROM\n",
    "                 (\n",
    "                 SELECT *\n",
    "                 FROM dogs\n",
    "                 UNION\n",
    "                 SELECT *\n",
    "                 FROM cats\n",
    "                 )\n",
    "             GROUP BY House_Number\n",
    "             ORDER BY Total_Pets DESC\n",
    "             LIMIT 1;\n",
    "          ''')\n",
    "df = pd.DataFrame(c.fetchall()) #Take results and create dataframe\n",
    "df.columns = [i[0] for i in c.description]\n",
    "df.head(100)"
   ]
  },
  {
   "cell_type": "code",
   "execution_count": null,
   "metadata": {},
   "outputs": [],
   "source": [
    "#C. The daycare realized that House 4 needs the owners of its pets to update their addresses. \n",
    "\n",
    "print\"need to update addresses\""
   ]
  },
  {
   "cell_type": "code",
   "execution_count": null,
   "metadata": {},
   "outputs": [],
   "source": []
  }
 ],
 "metadata": {
  "kernelspec": {
   "display_name": "Python 3",
   "language": "python",
   "name": "python3"
  },
  "language_info": {
   "codemirror_mode": {
    "name": "ipython",
    "version": 3
   },
   "file_extension": ".py",
   "mimetype": "text/x-python",
   "name": "python",
   "nbconvert_exporter": "python",
   "pygments_lexer": "ipython3",
   "version": "3.7.3"
  }
 },
 "nbformat": 4,
 "nbformat_minor": 2
}
