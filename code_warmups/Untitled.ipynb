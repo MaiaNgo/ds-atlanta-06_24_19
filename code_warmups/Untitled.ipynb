{
 "cells": [
  {
   "cell_type": "markdown",
   "metadata": {},
   "source": [
    "Module 1 Day 6:\n",
    "Codewars Challenge:\n",
    "\n",
    "In this function you should simply determine whether a given year is a leap year or not. In case you don't know the rules, here they are:\n",
    "\n",
    "years divisible by 4 are leap years\n",
    "\n",
    "but years divisible by 100 are not leap years\n",
    "\n",
    "but years divisible by 400 are leap years\n",
    "\n",
    "Initial Framework:\n"
   ]
  },
  {
   "cell_type": "code",
   "execution_count": null,
   "metadata": {},
   "outputs": [],
   "source": [
    "def isLeapYear(year):\n",
    "    leap_years \n",
    "    #your code here.\n",
    "    return"
   ]
  }
 ],
 "metadata": {
  "kernelspec": {
   "display_name": "Python 3",
   "language": "python",
   "name": "python3"
  },
  "language_info": {
   "codemirror_mode": {
    "name": "ipython",
    "version": 3
   },
   "file_extension": ".py",
   "mimetype": "text/x-python",
   "name": "python",
   "nbconvert_exporter": "python",
   "pygments_lexer": "ipython3",
   "version": "3.7.3"
  }
 },
 "nbformat": 4,
 "nbformat_minor": 2
}
