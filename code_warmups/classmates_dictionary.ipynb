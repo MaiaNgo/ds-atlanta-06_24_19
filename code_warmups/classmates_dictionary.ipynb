{
 "cells": [
  {
   "cell_type": "markdown",
   "metadata": {},
   "source": [
    "Basic Practice:\n",
    "1. Create a classmates dictionary. Their names should be the keys and their favorite food should be the values\n",
    "2. Print all of the keys\n",
    "3. Print all of the values\n",
    "4. Choose three classmates and create a dictionary for each of them. Each dictionary should have the keys: name, birth month, and birth country. Create a list of these dictionaries.\n",
    "\n",
    "EXAMPLE OUTPUT:\n",
    "```[{'name': 'Sydney', 'birth_month': 'October', 'birth_country': 'USA'},\n",
    " {'name': 'Howard', 'birth_month': 'January', 'birth_country': 'Jamaica'},\n",
    " {'name': 'Brandon', 'birth_month': 'June', 'birth_country': 'USA'}]```\n",
    "\n",
    "5. Print the Birth Month of the second person in your list.\n",
    "\n",
    "Challenge Practice:\n",
    "1. Use a for loop to print out a string of where each student is from. Append these strings to a list.\n",
    "\n",
    "EXAMPLE OUTPUT:\n",
    "```['Sydney is from USA', 'Howard is from Jamaica', 'Brandon is from USA']```\n",
    "\n",
    "7. Now we want each student’s name, birth month and birth country to be added to a list. But we want this data to be immutable. Use a for loop to accomplish this!\n",
    "\n",
    "EXAMPLE OUTPUT:\n",
    "```[('Sydney', 'October', 'USA'), ('Howard', 'January', 'Jamaica'), ('Brandon', 'June', 'USA')]```\n",
    "\n",
    "Question:\n",
    "What are some of the advantages of using a dictionary to store data?\n",
    "Please like this thread when you are done and reply in the comments your feedback on difficulty level. Remember don't take more than 20-30 minutes to work on this before switching over to learnco!"
   ]
  },
  {
   "cell_type": "code",
   "execution_count": 5,
   "metadata": {},
   "outputs": [],
   "source": [
    "classmates_food_favourite = {'Princess': 'rice', 'Christian': 'broccoli', 'Garry': 'pancake', 'Patrict': 'sushi', 'Thoa': 'noodle'}"
   ]
  },
  {
   "cell_type": "code",
   "execution_count": 8,
   "metadata": {},
   "outputs": [
    {
     "data": {
      "text/plain": [
       "{'Princess': 'rice',\n",
       " 'Christian': 'broccoli',\n",
       " 'Garry': 'pancake',\n",
       " 'Patrict': 'sushi',\n",
       " 'Thoa': 'noodle'}"
      ]
     },
     "execution_count": 8,
     "metadata": {},
     "output_type": "execute_result"
    }
   ],
   "source": [
    "classmates_food_favourite"
   ]
  },
  {
   "cell_type": "code",
   "execution_count": 11,
   "metadata": {},
   "outputs": [
    {
     "data": {
      "text/plain": [
       "dict_keys(['Princess', 'Christian', 'Garry', 'Patrict', 'Thoa'])"
      ]
     },
     "execution_count": 11,
     "metadata": {},
     "output_type": "execute_result"
    }
   ],
   "source": [
    "name_list = classmates_food_favourite.keys()\n",
    "name_list\n"
   ]
  },
  {
   "cell_type": "code",
   "execution_count": 14,
   "metadata": {},
   "outputs": [
    {
     "data": {
      "text/plain": [
       "['Princess', 'Christian', 'Garry', 'Patrict', 'Thoa']"
      ]
     },
     "execution_count": 14,
     "metadata": {},
     "output_type": "execute_result"
    }
   ],
   "source": [
    "list(classmates_food_favourite)"
   ]
  },
  {
   "cell_type": "code",
   "execution_count": 12,
   "metadata": {},
   "outputs": [
    {
     "data": {
      "text/plain": [
       "dict_values(['rice', 'broccoli', 'pancake', 'sushi', 'noodle'])"
      ]
     },
     "execution_count": 12,
     "metadata": {},
     "output_type": "execute_result"
    }
   ],
   "source": [
    "food_list = classmates_food_favourite.values()\n",
    "food_list"
   ]
  },
  {
   "cell_type": "code",
   "execution_count": 16,
   "metadata": {},
   "outputs": [],
   "source": [
    "group_of_three = [{'name': 'Princess', 'birth_month': 'March', 'birth_country': 'Nigeria'}, {'name': 'Christian', 'birth_month': 'January', 'birth_country': 'UK'}, {'name': 'Patrick', 'birth_month': 'August', 'birth_country': 'USA'}]"
   ]
  },
  {
   "cell_type": "code",
   "execution_count": 90,
   "metadata": {},
   "outputs": [
    {
     "name": "stdout",
     "output_type": "stream",
     "text": [
      "August\n"
     ]
    }
   ],
   "source": [
    "second_person_info = group_of_three[2]\n",
    "second_person_month = second_person_info['birth_month']\n",
    "print(second_person_month)"
   ]
  },
  {
   "cell_type": "code",
   "execution_count": 99,
   "metadata": {},
   "outputs": [
    {
     "data": {
      "text/plain": [
       "['March', 'January', 'August', 'March', 'January', 'August']"
      ]
     },
     "execution_count": 99,
     "metadata": {},
     "output_type": "execute_result"
    }
   ],
   "source": [
    "for person in group_of_three:\n",
    "    friends_month.append(person['birth_month'])\n",
    "    \n",
    "friends_month"
   ]
  },
  {
   "cell_type": "code",
   "execution_count": 111,
   "metadata": {},
   "outputs": [],
   "source": [
    "def get_friends_month(group_of_three):\n",
    "    friends_month = []\n",
    "    for person in group_of_three:\n",
    "        friends_month.append(person['birth_month'])\n",
    "    return friends_month"
   ]
  },
  {
   "cell_type": "code",
   "execution_count": 112,
   "metadata": {},
   "outputs": [
    {
     "data": {
      "text/plain": [
       "['March', 'January', 'August']"
      ]
     },
     "execution_count": 112,
     "metadata": {},
     "output_type": "execute_result"
    }
   ],
   "source": [
    "get_friends_month(group_of_three)"
   ]
  },
  {
   "cell_type": "code",
   "execution_count": 86,
   "metadata": {},
   "outputs": [
    {
     "name": "stdout",
     "output_type": "stream",
     "text": [
      "Princess is from Nigeria\n",
      "Christian is from UK\n",
      "Patrick is from USA\n"
     ]
    }
   ],
   "source": [
    "for person in group_of_three:\n",
    "    print('{} is from {}'.format(person['name'], person['birth_country']))"
   ]
  },
  {
   "cell_type": "code",
   "execution_count": 106,
   "metadata": {},
   "outputs": [
    {
     "name": "stdout",
     "output_type": "stream",
     "text": [
      "Princess,March,Nigeria\n",
      "Christian,January,UK\n",
      "Patrick,August,USA\n"
     ]
    }
   ],
   "source": [
    "#Now we want each student’s name, birth month and birth country to be added to a list. But we want this data to be immutable. Use a for loop to accomplish this!\n",
    "\n",
    "# EXAMPLE OUTPUT:\n",
    "# ```[('Sydney', 'October', 'USA'), ('Howard', 'January', 'Jamaica'), ('Brandon', 'June', 'USA')]```\n",
    "for person in group_of_three:\n",
    "    print('{},{},{}'.format(person['name'], person['birth_month'], person['birth_country']))"
   ]
  },
  {
   "cell_type": "code",
   "execution_count": 110,
   "metadata": {},
   "outputs": [
    {
     "name": "stdout",
     "output_type": "stream",
     "text": [
      "(Princess, March, Nigeria)\n",
      "(Christian, January, UK)\n",
      "(Patrick, August, USA)\n"
     ]
    }
   ],
   "source": [
    "for person in group_of_three:\n",
    "    print(f\"({person['name']}, {person['birth_month']}, {person['birth_country']})\")"
   ]
  },
  {
   "cell_type": "code",
   "execution_count": null,
   "metadata": {},
   "outputs": [],
   "source": []
  }
 ],
 "metadata": {
  "kernelspec": {
   "display_name": "Python 3",
   "language": "python",
   "name": "python3"
  },
  "language_info": {
   "codemirror_mode": {
    "name": "ipython",
    "version": 3
   },
   "file_extension": ".py",
   "mimetype": "text/x-python",
   "name": "python",
   "nbconvert_exporter": "python",
   "pygments_lexer": "ipython3",
   "version": "3.7.3"
  }
 },
 "nbformat": 4,
 "nbformat_minor": 2
}
