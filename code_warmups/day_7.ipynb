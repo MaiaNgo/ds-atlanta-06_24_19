{
 "cells": [
  {
   "cell_type": "markdown",
   "metadata": {},
   "source": [
    "Code warmup coming shortly\n",
    "Build a function called vowel.counter that takes in a string and returns the number of times a,e,i,o,u \n",
    "(lowercase or uppercase) appear in the string. This function should return a dictionary with vowels as keys \n",
    "and the counts of each vowel as the values."
   ]
  },
  {
   "cell_type": "code",
   "execution_count": 3,
   "metadata": {},
   "outputs": [],
   "source": [
    "# def vowel_counter(string):\n",
    "\n",
    "#     return vowel_dict{}"
   ]
  },
  {
   "cell_type": "code",
   "execution_count": 13,
   "metadata": {},
   "outputs": [],
   "source": [
    "#test_sentence = 'I choose to be data scientist'\n",
    "#vowel_dict = {}\n",
    "#key   = ['a', 'e', 'i', 'o', 'u']\n",
    "#value = count['a', 'e', 'i', 'o', 'u']\n",
    "#print(vowel_dict{})"
   ]
  },
  {
   "cell_type": "code",
   "execution_count": 6,
   "metadata": {},
   "outputs": [],
   "source": [
    "# vowel_counter('I choose to be data scientist')"
   ]
  },
  {
   "cell_type": "code",
   "execution_count": 14,
   "metadata": {},
   "outputs": [
    {
     "name": "stdout",
     "output_type": "stream",
     "text": [
      "{'a': 3, 'e': 3, 'i': 3, 'o': 3, 'u': 0, 'A': 0, 'E': 0, 'I': 0, 'O': 0, 'U': 0}\n"
     ]
    }
   ],
   "source": [
    "vowels = 'aeiou'\n",
    "#ip_str = input(\"Enter a string: \")\n",
    "#ip_str = ip_str.casefold()\n",
    "count = {}.fromkeys('aeiouAEIOU',0)\n",
    "for char in ip_str:\n",
    "   if char in count:\n",
    "       count[char] += 1\n",
    "print(count)\n"
   ]
  },
  {
   "cell_type": "code",
   "execution_count": 12,
   "metadata": {},
   "outputs": [
    {
     "name": "stdout",
     "output_type": "stream",
     "text": [
      "Lowercase string: python is awesome\n"
     ]
    }
   ],
   "source": [
    "string = \"PYTHON IS AWESOME\"\n",
    "\n",
    "# print lowercase string\n",
    "print(\"Lowercase string:\", string.casefold())"
   ]
  },
  {
   "cell_type": "code",
   "execution_count": 16,
   "metadata": {},
   "outputs": [],
   "source": [
    "#vowels keys\n",
    "#keys = {'a', 'e', 'i', 'o', 'u' }\n",
    "\n",
    "#vowels = dict.fromkeys(keys)\n",
    "#print(vowels)"
   ]
  },
  {
   "cell_type": "code",
   "execution_count": 30,
   "metadata": {},
   "outputs": [
    {
     "ename": "IndentationError",
     "evalue": "expected an indented block (<ipython-input-30-448c6d6d0d88>, line 6)",
     "output_type": "error",
     "traceback": [
      "\u001b[0;36m  File \u001b[0;32m\"<ipython-input-30-448c6d6d0d88>\"\u001b[0;36m, line \u001b[0;32m6\u001b[0m\n\u001b[0;31m    volwel_dict[char] += 1\u001b[0m\n\u001b[0m              ^\u001b[0m\n\u001b[0;31mIndentationError\u001b[0m\u001b[0;31m:\u001b[0m expected an indented block\n"
     ]
    }
   ],
   "source": [
    "vowels = 'a e i o u'\n",
    "def vowel_counter(sentence):\n",
    "    vowel_dict = ()\n",
    "    count = {}.fromkeys('aeiouAEIOU',0)\n",
    "    for char in sentence:\n",
    "        if char in count:\n",
    "        volwel_dict[char] += 1\n",
    "    return vowel_counter()"
   ]
  },
  {
   "cell_type": "code",
   "execution_count": null,
   "metadata": {},
   "outputs": [],
   "source": []
  }
 ],
 "metadata": {
  "kernelspec": {
   "display_name": "Python 3",
   "language": "python",
   "name": "python3"
  },
  "language_info": {
   "codemirror_mode": {
    "name": "ipython",
    "version": 3
   },
   "file_extension": ".py",
   "mimetype": "text/x-python",
   "name": "python",
   "nbconvert_exporter": "python",
   "pygments_lexer": "ipython3",
   "version": "3.7.3"
  }
 },
 "nbformat": 4,
 "nbformat_minor": 2
}
