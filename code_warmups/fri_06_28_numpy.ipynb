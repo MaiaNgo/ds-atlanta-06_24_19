{
 "cells": [
  {
   "cell_type": "markdown",
   "metadata": {},
   "source": [
    "Module 1 Day 5 code warmup:\n",
    "Practice:\n",
    "1. Create a list with elements ranging from 1 to 10\n",
    "2. Create an array with the shape (2, 3, 2)\n",
    "3. Print the first row of the array\n",
    "4. Challenge: Create a function that adds together two arrays\n",
    "5. Challenge: Using `challenge_list = [1,2,3,4,5]`, create a new list that should equal `[0, 1, 2, 3, 6, 5, 12, 7, 20, 9]`\n",
    "Hint1: Use a for loop!\n",
    "Hint2: The first number in challenge_list is multiplied by its index to get the first number in the new_list. The first number in challenge_list is added to its index to get the second number in the new list. This repeats for each number in challenge_list.\n",
    "\n",
    "Question:\n",
    "What are some differences between a list and a numpy array?"
   ]
  },
  {
   "cell_type": "code",
   "execution_count": null,
   "metadata": {},
   "outputs": [],
   "source": []
  }
 ],
 "metadata": {
  "kernelspec": {
   "display_name": "Python 3",
   "language": "python",
   "name": "python3"
  },
  "language_info": {
   "codemirror_mode": {
    "name": "ipython",
    "version": 3
   },
   "file_extension": ".py",
   "mimetype": "text/x-python",
   "name": "python",
   "nbconvert_exporter": "python",
   "pygments_lexer": "ipython3",
   "version": "3.7.3"
  }
 },
 "nbformat": 4,
 "nbformat_minor": 2
}
