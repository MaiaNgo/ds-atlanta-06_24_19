{
 "cells": [
  {
   "cell_type": "markdown",
   "metadata": {},
   "source": [
    "Let's practice some probability!\n",
    "1. Calculate the number of possible 5 card hands in a 52-card deck (combinations).\n",
    "\n",
    "2. What is the probability of rolling a sum of 9 with 2 dice?\n",
    "\n",
    "3. What is the probability of getting at least 1 tail if you flip 3 coins in a row?\n",
    "\n",
    "4. We have two identical boxes. The first has 8 black balls and 4 white balls. The second has 2 black balls and 2 white balls.  If a box is chosen at random, then the ball is chosen randomly, what is the chance that we draw a black ball?"
   ]
  },
  {
   "cell_type": "code",
   "execution_count": 5,
   "metadata": {},
   "outputs": [],
   "source": [
    "import numpy as np\n",
    "import math"
   ]
  },
  {
   "cell_type": "code",
   "execution_count": 9,
   "metadata": {},
   "outputs": [],
   "source": [
    "def factorial(n):\n",
    "    outcome = 1\n",
    "    while n >= 1:\n",
    "        outcome = outcome * n\n",
    "        n = n - 1\n",
    "    return outcome"
   ]
  },
  {
   "cell_type": "code",
   "execution_count": 12,
   "metadata": {},
   "outputs": [],
   "source": [
    "# 1. Calculate the number of possible 5 card hands in a 52-card deck (combinations).\n",
    "def combination(n,k):\n",
    "    CBNT = factorial(n)/(factorial(n-k)*factorial(k))\n",
    "    return CBNT"
   ]
  },
  {
   "cell_type": "code",
   "execution_count": 11,
   "metadata": {},
   "outputs": [
    {
     "data": {
      "text/plain": [
       "2598960.0"
      ]
     },
     "execution_count": 11,
     "metadata": {},
     "output_type": "execute_result"
    }
   ],
   "source": [
    "combination(52, 5)"
   ]
  },
  {
   "cell_type": "code",
   "execution_count": 18,
   "metadata": {},
   "outputs": [],
   "source": [
    "import numpy as np\n",
    "sample_dice = np.array([(1, 1), (1, 2), (1, 3), (1, 4), (1, 5), (1, 6),\n",
    "                        (2, 1), (2, 2), (2, 3), (2, 4), (2, 5), (2, 6),\n",
    "                        (3, 1), (3, 2), (3, 3), (3, 4), (3, 5), (3, 6),\n",
    "                        (4, 1), (4, 2), (4, 3), (4, 4), (4, 5), (4, 6),\n",
    "                        (5, 1), (5, 2), (5, 3), (5, 4), (5, 5), (5, 6),\n",
    "                        (6, 1), (6, 2), (6, 3), (6, 4), (6, 5), (6, 6)])"
   ]
  },
  {
   "cell_type": "code",
   "execution_count": 26,
   "metadata": {},
   "outputs": [
    {
     "name": "stdout",
     "output_type": "stream",
     "text": [
      "4\n"
     ]
    }
   ],
   "source": [
    "# 2. What is the probability of rolling a sum of 9 with 2 dice?\n",
    "possible_outcomes = [item for item in sample_dice if item[0] + item[1] == 9]\n",
    "#print(possible_outcomes)\n",
    "sum_9 = len(possible_outcomes)\n",
    "print(sum_9)"
   ]
  },
  {
   "cell_type": "code",
   "execution_count": 47,
   "metadata": {},
   "outputs": [
    {
     "data": {
      "text/plain": [
       "array([['H', 'H', 'H'],\n",
       "       ['H', 'H', 'T'],\n",
       "       ['H', 'T', 'H'],\n",
       "       ['H', 'T', 'T'],\n",
       "       ['T', 'H', 'H'],\n",
       "       ['T', 'H', 'T'],\n",
       "       ['T', 'T', 'H'],\n",
       "       ['T', 'T', 'T']], dtype='<U1')"
      ]
     },
     "execution_count": 47,
     "metadata": {},
     "output_type": "execute_result"
    }
   ],
   "source": [
    "import numpy as np\n",
    "sample_coin = np.array([('H', 'H', 'H'), ('H', 'H', 'T'), ('H', 'T', 'H'), ('H', 'T', 'T'),\n",
    "                         ('T', 'H', 'H'), ('T', 'H', 'T'), ('T', 'T', 'H'), ('T', 'T', 'T')])\n",
    "sum_sample_coin = len(sample_coin)\n",
    "sample_coin\n",
    "# print(sum_sample_coin)"
   ]
  },
  {
   "cell_type": "code",
   "execution_count": 48,
   "metadata": {},
   "outputs": [
    {
     "data": {
      "text/plain": [
       "[array(['H', 'H', 'T'], dtype='<U1'),\n",
       " array(['H', 'T', 'H'], dtype='<U1'),\n",
       " array(['H', 'T', 'T'], dtype='<U1'),\n",
       " array(['T', 'H', 'H'], dtype='<U1'),\n",
       " array(['T', 'H', 'T'], dtype='<U1'),\n",
       " array(['T', 'T', 'H'], dtype='<U1'),\n",
       " array(['T', 'T', 'T'], dtype='<U1')]"
      ]
     },
     "execution_count": 48,
     "metadata": {},
     "output_type": "execute_result"
    }
   ],
   "source": [
    "# 3. What is the probability of getting at least 1 tail if you flip 3 coins in a row?\n",
    "\n",
    "one_tail_in_3 = [item for item in sample_coin if item[0] == \"T\" or item[1] == \"T\" or item[2] == \"T\"]\n",
    "sum_one_tail_in_3 = len(one_tail_in_3)\n",
    "one_tail_in_3\n",
    "#print(sum_one_tail_in_3 )"
   ]
  },
  {
   "cell_type": "code",
   "execution_count": 50,
   "metadata": {},
   "outputs": [
    {
     "data": {
      "text/plain": [
       "0.875"
      ]
     },
     "execution_count": 50,
     "metadata": {},
     "output_type": "execute_result"
    }
   ],
   "source": [
    "Prob_one_tail_in_3 = sum_one_tail_in_3 / sum_sample_coin\n",
    "Prob_one_tail_in_3"
   ]
  },
  {
   "cell_type": "code",
   "execution_count": 54,
   "metadata": {},
   "outputs": [
    {
     "data": {
      "text/plain": [
       "1.1666666666666665"
      ]
     },
     "execution_count": 54,
     "metadata": {},
     "output_type": "execute_result"
    }
   ],
   "source": [
    "# 4. We have two identical boxes. The first has 8 black balls and 4 white balls. \n",
    "#    The second has 2 black balls and 2 white balls.  \n",
    "#    If a box is chosen at random, then the ball is chosen randomly, what is the chance that we draw a black ball?\n",
    "\n",
    "# P(A|B) = P(A) + P(B)\n",
    "prob_A = 8/12\n",
    "prob_B = 2/4\n",
    "prob_one_B = prob_A + prob_B\n",
    "prob_one_B\n"
   ]
  },
  {
   "cell_type": "code",
   "execution_count": null,
   "metadata": {},
   "outputs": [],
   "source": []
  }
 ],
 "metadata": {
  "kernelspec": {
   "display_name": "Python 3",
   "language": "python",
   "name": "python3"
  },
  "language_info": {
   "codemirror_mode": {
    "name": "ipython",
    "version": 3
   },
   "file_extension": ".py",
   "mimetype": "text/x-python",
   "name": "python",
   "nbconvert_exporter": "python",
   "pygments_lexer": "ipython3",
   "version": "3.7.3"
  }
 },
 "nbformat": 4,
 "nbformat_minor": 2
}
